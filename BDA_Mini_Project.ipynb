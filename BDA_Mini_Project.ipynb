{
  "cells": [
    {
      "cell_type": "code",
      "execution_count": null,
      "metadata": {
        "colab": {
          "base_uri": "https://localhost:8080/"
        },
        "id": "6zk0m9i3ugZV",
        "outputId": "8e3f6406-3dd8-4a86-8f30-625e8f14ddd0"
      },
      "outputs": [
        {
          "name": "stdout",
          "output_type": "stream",
          "text": [
            "Collecting pyspark\n",
            "  Downloading pyspark-3.5.3.tar.gz (317.3 MB)\n",
            "\u001b[2K     \u001b[90m━━━━━━━━━━━━━━━━━━━━━━━━━━━━━━━━━━━━━━━━\u001b[0m \u001b[32m317.3/317.3 MB\u001b[0m \u001b[31m5.2 MB/s\u001b[0m eta \u001b[36m0:00:00\u001b[0m\n",
            "\u001b[?25h  Preparing metadata (setup.py) ... \u001b[?25l\u001b[?25hdone\n",
            "Requirement already satisfied: py4j==0.10.9.7 in /usr/local/lib/python3.10/dist-packages (from pyspark) (0.10.9.7)\n",
            "Building wheels for collected packages: pyspark\n",
            "  Building wheel for pyspark (setup.py) ... \u001b[?25l\u001b[?25hdone\n",
            "  Created wheel for pyspark: filename=pyspark-3.5.3-py2.py3-none-any.whl size=317840625 sha256=601da725972c9009a76e76f02ff69c5fb70e60d8b025ccf310564364376e2e66\n",
            "  Stored in directory: /root/.cache/pip/wheels/1b/3a/92/28b93e2fbfdbb07509ca4d6f50c5e407f48dce4ddbda69a4ab\n",
            "Successfully built pyspark\n",
            "Installing collected packages: pyspark\n",
            "Successfully installed pyspark-3.5.3\n"
          ]
        }
      ],
      "source": [
        "!pip install pyspark"
      ]
    },
    {
      "cell_type": "markdown",
      "metadata": {
        "id": "Dm0ZITPVkron"
      },
      "source": [
        "## Actual Start from here"
      ]
    },
    {
      "cell_type": "code",
      "execution_count": null,
      "metadata": {
        "colab": {
          "base_uri": "https://localhost:8080/"
        },
        "id": "F6idHiphiuPo",
        "outputId": "0f71115c-23cc-4b57-8b93-8187a977d248"
      },
      "outputs": [
        {
          "name": "stdout",
          "output_type": "stream",
          "text": [
            "+------+-------+------+-------------------+\n",
            "|userId|movieId|rating|          timestamp|\n",
            "+------+-------+------+-------------------+\n",
            "|     1|      2|   3.5|2005-04-02 23:53:47|\n",
            "|     1|     29|   3.5|2005-04-02 23:31:16|\n",
            "|     1|     32|   3.5|2005-04-02 23:33:39|\n",
            "|     1|     47|   3.5|2005-04-02 23:32:07|\n",
            "|     1|     50|   3.5|2005-04-02 23:29:40|\n",
            "+------+-------+------+-------------------+\n",
            "only showing top 5 rows\n",
            "\n"
          ]
        }
      ],
      "source": [
        "from pyspark.sql import SparkSession\n",
        "spark = SparkSession.builder.appName('Movie Recommendation System').getOrCreate()\n",
        "\n",
        "# load dataset\n",
        "data = spark.read.csv('/content/rating.csv', inferSchema = True, header = True)\n",
        "\n",
        "# displaying sample data\n",
        "data.show(5)"
      ]
    },
    {
      "cell_type": "code",
      "execution_count": null,
      "metadata": {
        "colab": {
          "base_uri": "https://localhost:8080/"
        },
        "id": "l1IAGfPXlW_8",
        "outputId": "badcbd95-4b09-492d-814c-4fb951bfa60c"
      },
      "outputs": [
        {
          "name": "stdout",
          "output_type": "stream",
          "text": [
            "+-------+------------------+------------------+-----------------+\n",
            "|summary|            userId|           movieId|           rating|\n",
            "+-------+------------------+------------------+-----------------+\n",
            "|  count|             97833|             97832|            97832|\n",
            "|   mean|355.48587899788413|  8543.65226101889|3.509276105977594|\n",
            "| stddev|192.62263141528499|19001.182096633605|1.061531765466636|\n",
            "|    min|                 1|                 1|              0.5|\n",
            "|    max|               685|            128488|              5.0|\n",
            "+-------+------------------+------------------+-----------------+\n",
            "\n"
          ]
        }
      ],
      "source": [
        "# show the statistics of the data\n",
        "data.describe().show()"
      ]
    },
    {
      "cell_type": "code",
      "execution_count": null,
      "metadata": {
        "colab": {
          "base_uri": "https://localhost:8080/"
        },
        "id": "1jz2QeVtlpQ7",
        "outputId": "d219a4b0-cba0-4d57-ce09-5f7df6f9ae2b"
      },
      "outputs": [
        {
          "name": "stdout",
          "output_type": "stream",
          "text": [
            "root\n",
            " |-- userId: integer (nullable = true)\n",
            " |-- movieId: integer (nullable = true)\n",
            " |-- rating: double (nullable = true)\n",
            " |-- timestamp: timestamp (nullable = true)\n",
            "\n"
          ]
        }
      ],
      "source": [
        "# Show schema and data\n",
        "# movies_df.printSchema()\n",
        "data.printSchema()\n",
        "\n",
        "# Handle missing values (if any)\n",
        "# movies_df = movies_df.dropna()\n",
        "ratings_df = data.dropna()\n"
      ]
    },
    {
      "cell_type": "code",
      "execution_count": null,
      "metadata": {
        "colab": {
          "base_uri": "https://localhost:8080/"
        },
        "id": "2KLgmBXtlGSR",
        "outputId": "0cd1f66d-6fc8-4630-f696-696841681b29"
      },
      "outputs": [
        {
          "name": "stdout",
          "output_type": "stream",
          "text": [
            "Root Mean Squared Error (RMSE): 1.1537641880849052\n"
          ]
        }
      ],
      "source": [
        "from pyspark.ml.recommendation import ALS\n",
        "from pyspark.ml.evaluation import RegressionEvaluator\n",
        "\n",
        "# split data into training and test sets with 70% in training data\n",
        "train, test = data.randomSplit([0.7, 0.3], seed = 42)\n",
        "\n",
        "# Build recommendation model using ALS\n",
        "als = ALS(maxIter = 5, regParam = 0.01, userCol = \"userId\", itemCol = \"movieId\", ratingCol = \"rating\", coldStartStrategy = \"drop\")\n",
        "model = als.fit(train)\n",
        "\n",
        "# Generate predictions\n",
        "predictions = model.transform(test)\n",
        "\n",
        "# Evaluate the model\n",
        "evaluator = RegressionEvaluator(metricName = \"rmse\", labelCol=\"rating\", predictionCol = \"prediction\")\n",
        "rmse = evaluator.evaluate(predictions)\n",
        "print(\"Root Mean Squared Error (RMSE): \" + str(rmse))"
      ]
    },
    {
      "cell_type": "code",
      "execution_count": null,
      "metadata": {
        "colab": {
          "base_uri": "https://localhost:8080/"
        },
        "id": "Ck5qIFlRoXDX",
        "outputId": "731a4f71-f15d-4aa4-c5b5-cc0815e2e5d1"
      },
      "outputs": [
        {
          "name": "stdout",
          "output_type": "stream",
          "text": [
            "+------+--------------------+\n",
            "|userId|     recommendations|\n",
            "+------+--------------------+\n",
            "|     1|[{66934, 5.582471...|\n",
            "|     2|[{2924, 7.167936}...|\n",
            "|     3|[{48877, 7.07324}...|\n",
            "|     4|[{2083, 7.635319}...|\n",
            "|     5|[{4866, 11.025259...|\n",
            "|     6|[{326, 9.224367},...|\n",
            "|     7|[{2583, 5.5500984...|\n",
            "|     8|[{3844, 8.260239}...|\n",
            "|     9|[{34437, 8.222774...|\n",
            "|    10|[{1211, 6.8058424...|\n",
            "|    11|[{36525, 7.130010...|\n",
            "|    12|[{942, 6.866213},...|\n",
            "|    13|[{1176, 9.729571}...|\n",
            "|    14|[{8973, 6.3701262...|\n",
            "|    15|[{2937, 5.9242325...|\n",
            "|    16|[{2583, 8.831705}...|\n",
            "|    17|[{46970, 11.14433...|\n",
            "|    18|[{27803, 5.183718...|\n",
            "|    19|[{1211, 7.078035}...|\n",
            "|    20|[{48322, 6.739762...|\n",
            "+------+--------------------+\n",
            "only showing top 20 rows\n",
            "\n"
          ]
        }
      ],
      "source": [
        "user_recs = model.recommendForAllUsers(10)\n",
        "user_recs.show()"
      ]
    },
    {
      "cell_type": "code",
      "execution_count": null,
      "metadata": {
        "colab": {
          "base_uri": "https://localhost:8080/"
        },
        "id": "tkmjfQaW7nKi",
        "outputId": "5d5ce296-60a2-4b1a-fc91-c1adcdb05c40"
      },
      "outputs": [
        {
          "name": "stdout",
          "output_type": "stream",
          "text": [
            "Recommendations for user 3:\n",
            "Movie ID: 48877, Predicted Rating: 7.073239803314209\n",
            "Movie ID: 66934, Predicted Rating: 6.661294460296631\n",
            "Movie ID: 7371, Predicted Rating: 6.524487018585205\n",
            "Movie ID: 56251, Predicted Rating: 6.485762596130371\n",
            "Movie ID: 1934, Predicted Rating: 6.451491355895996\n",
            "Movie ID: 36525, Predicted Rating: 6.446295261383057\n",
            "Movie ID: 334, Predicted Rating: 6.422379493713379\n",
            "Movie ID: 6270, Predicted Rating: 6.325499534606934\n",
            "Movie ID: 5291, Predicted Rating: 6.304076194763184\n",
            "Movie ID: 2068, Predicted Rating: 6.299541473388672\n"
          ]
        }
      ],
      "source": [
        "# Display recommendations for a specific user ID\n",
        "user_id = 3  # Replace with the desired user ID\n",
        "recommendations = user_recs.filter(user_recs['userId'] == user_id).collect()\n",
        "\n",
        "if recommendations:\n",
        "    print(f\"Recommendations for user {user_id}:\")\n",
        "    for movie_rec in recommendations[0]['recommendations']:\n",
        "        print(f\"Movie ID: {movie_rec['movieId']}, Predicted Rating: {movie_rec['rating']}\")\n",
        "else:\n",
        "    print(f\"No recommendations found for user {user_id}.\")"
      ]
    },
    {
      "cell_type": "code",
      "execution_count": null,
      "metadata": {
        "colab": {
          "base_uri": "https://localhost:8080/"
        },
        "id": "3U5PvFGK5bOv",
        "outputId": "a6789fc8-90a2-4938-d991-942765644902"
      },
      "outputs": [
        {
          "name": "stdout",
          "output_type": "stream",
          "text": [
            "+-------+--------------------+--------------------+\n",
            "|movieId|               title|              genres|\n",
            "+-------+--------------------+--------------------+\n",
            "|      1|    Toy Story (1995)|Adventure|Animati...|\n",
            "|      2|      Jumanji (1995)|Adventure|Childre...|\n",
            "|      3|Grumpier Old Men ...|      Comedy|Romance|\n",
            "|      4|Waiting to Exhale...|Comedy|Drama|Romance|\n",
            "|      5|Father of the Bri...|              Comedy|\n",
            "+-------+--------------------+--------------------+\n",
            "only showing top 5 rows\n",
            "\n"
          ]
        }
      ],
      "source": [
        "# Load movies dataset\n",
        "movies = spark.read.csv('/content/movie.csv', inferSchema=True, header=True)\n",
        "movies.show(5)"
      ]
    },
    {
      "cell_type": "code",
      "execution_count": null,
      "metadata": {
        "colab": {
          "base_uri": "https://localhost:8080/"
        },
        "id": "fB0g1BaL57tF",
        "outputId": "6070edd9-5c3a-4ec8-98a1-42c79f6b7235"
      },
      "outputs": [
        {
          "name": "stdout",
          "output_type": "stream",
          "text": [
            "+-------+------+------+-------------------+--------------------+--------------------+\n",
            "|movieId|userId|rating|          timestamp|               title|              genres|\n",
            "+-------+------+------+-------------------+--------------------+--------------------+\n",
            "|      2|     1|   3.5|2005-04-02 23:53:47|      Jumanji (1995)|Adventure|Childre...|\n",
            "|     29|     1|   3.5|2005-04-02 23:31:16|City of Lost Chil...|Adventure|Drama|F...|\n",
            "|     32|     1|   3.5|2005-04-02 23:33:39|Twelve Monkeys (a...|Mystery|Sci-Fi|Th...|\n",
            "|     47|     1|   3.5|2005-04-02 23:32:07|Seven (a.k.a. Se7...|    Mystery|Thriller|\n",
            "|     50|     1|   3.5|2005-04-02 23:29:40|Usual Suspects, T...|Crime|Mystery|Thr...|\n",
            "+-------+------+------+-------------------+--------------------+--------------------+\n",
            "only showing top 5 rows\n",
            "\n"
          ]
        }
      ],
      "source": [
        "# Join ratings with movies on movieId\n",
        "ratings_with_movies = ratings_df.join(movies, on='movieId')\n",
        "ratings_with_movies.show(5)"
      ]
    },
    {
      "cell_type": "code",
      "execution_count": null,
      "metadata": {
        "colab": {
          "base_uri": "https://localhost:8080/"
        },
        "id": "v0lrqrVL57pt",
        "outputId": "51e8dfde-3d79-47a8-b48a-afc12dab8e63"
      },
      "outputs": [
        {
          "name": "stdout",
          "output_type": "stream",
          "text": [
            "+-------+--------------------+--------------------+\n",
            "|movieId|               title|              genres|\n",
            "+-------+--------------------+--------------------+\n",
            "|      1|    Toy Story (1995)|Adventure|Animati...|\n",
            "|      2|      Jumanji (1995)|Adventure|Childre...|\n",
            "|      8| Tom and Huck (1995)|  Adventure|Children|\n",
            "|     10|    GoldenEye (1995)|Action|Adventure|...|\n",
            "|     13|        Balto (1995)|Adventure|Animati...|\n",
            "|     15|Cutthroat Island ...|Action|Adventure|...|\n",
            "|     29|City of Lost Chil...|Adventure|Drama|F...|\n",
            "|     33|Wings of Courage ...|Adventure|Romance...|\n",
            "|     44|Mortal Kombat (1995)|Action|Adventure|...|\n",
            "|     53|     Lamerica (1994)|     Adventure|Drama|\n",
            "|     56|Kids of the Round...|Adventure|Childre...|\n",
            "|     60|Indian in the Cup...|Adventure|Childre...|\n",
            "|     86| White Squall (1996)|Action|Adventure|...|\n",
            "|     95| Broken Arrow (1996)|Action|Adventure|...|\n",
            "|    101|Bottle Rocket (1996)|Adventure|Comedy|...|\n",
            "|    107|Muppet Treasure I...|Adventure|Childre...|\n",
            "|    112|Rumble in the Bro...|Action|Adventure|...|\n",
            "|    120| Race the Sun (1996)|Adventure|Comedy|...|\n",
            "|    126|NeverEnding Story...|Adventure|Childre...|\n",
            "|    146|Amazing Panda Adv...|  Adventure|Children|\n",
            "+-------+--------------------+--------------------+\n",
            "only showing top 20 rows\n",
            "\n"
          ]
        }
      ],
      "source": [
        "# Filter by movie title or genre\n",
        "movie_title = \"Toy Story (1995)\"\n",
        "genre = \"Adventure\"\n",
        "\n",
        "# Filter movies by title or genre\n",
        "selected_movies = movies.filter((movies['title'] == movie_title) | (movies['genres'].contains(genre)))\n",
        "selected_movies.show()\n",
        "\n",
        "# Get movieId(s) for selected movies\n",
        "selected_movie_ids = [row.movieId for row in selected_movies.collect()]\n"
      ]
    },
    {
      "cell_type": "code",
      "execution_count": null,
      "metadata": {
        "colab": {
          "background_save": true
        },
        "id": "gXTYW0U557bK",
        "outputId": "418406d6-a892-4a52-f562-1f2ebc9be384"
      },
      "outputs": [
        {
          "name": "stdout",
          "output_type": "stream",
          "text": [
            "+------+--------------------+\n",
            "|userId|     recommendations|\n",
            "+------+--------------------+\n",
            "|     1|[{4103, 5.249239}...|\n",
            "|     2|[{41569, 6.626610...|\n",
            "|     3|[{2720, 6.3664618...|\n",
            "|     4|[{2384, 8.900747}...|\n",
            "|     5|[{1566, 8.614773}...|\n",
            "|     6|[{87232, 7.281047...|\n",
            "|     7|[{31658, 5.734188...|\n",
            "|     8|[{87232, 9.710864...|\n",
            "|     9|[{1884, 3.4004688...|\n",
            "|    10|[{940, 5.146997},...|\n",
            "|    11|[{940, 6.930997},...|\n",
            "|    12|[{2077, 6.428654}...|\n",
            "|    13|[{1030, 9.953707}...|\n",
            "|    14|[{940, 5.4838448}...|\n",
            "|    15|[{26662, 5.742769...|\n",
            "|    16|[{5463, 6.5301504...|\n",
            "|    17|[{5301, 7.8078485...|\n",
            "|    18|[{55269, 7.644380...|\n",
            "|    19|[{1030, 10.300052...|\n",
            "|    20|[{59387, 5.549627...|\n",
            "+------+--------------------+\n",
            "only showing top 20 rows\n",
            "\n"
          ]
        }
      ],
      "source": []
    },
    {
      "cell_type": "code",
      "execution_count": null,
      "metadata": {
        "id": "PKnfOAqE57Xb"
      },
      "outputs": [],
      "source": []
    },
    {
      "cell_type": "code",
      "execution_count": null,
      "metadata": {
        "colab": {
          "base_uri": "https://localhost:8080/"
        },
        "id": "nowHp_54nB3I",
        "outputId": "07444068-bbb7-4d91-e844-10652026bb2a"
      },
      "outputs": [
        {
          "name": "stdout",
          "output_type": "stream",
          "text": [
            "Root Mean Squared Error (RMSE): 1.11732560245536\n"
          ]
        }
      ],
      "source": [
        "# split data into training and test sets with 80% in training data\n",
        "train, test = data.randomSplit([0.8, 0.2], seed = 42)\n",
        "\n",
        "# Build recommendation model using ALS\n",
        "als = ALS(maxIter = 5, regParam = 0.01, userCol = \"userId\", itemCol = \"movieId\", ratingCol = \"rating\", coldStartStrategy = \"drop\")\n",
        "model = als.fit(train)\n",
        "\n",
        "# Generate predictions\n",
        "predictions = model.transform(test)\n",
        "\n",
        "# Evaluate the model\n",
        "evaluator = RegressionEvaluator(metricName = \"rmse\", labelCol=\"rating\", predictionCol = \"prediction\")\n",
        "rmse = evaluator.evaluate(predictions)\n",
        "print(\"Root Mean Squared Error (RMSE): \" + str(rmse))"
      ]
    },
    {
      "cell_type": "code",
      "execution_count": null,
      "metadata": {
        "id": "n_N9cn70oEk-"
      },
      "outputs": [],
      "source": []
    }
  ],
  "metadata": {
    "colab": {
      "provenance": []
    },
    "kernelspec": {
      "display_name": "Python 3",
      "name": "python3"
    },
    "language_info": {
      "name": "python"
    }
  },
  "nbformat": 4,
  "nbformat_minor": 0
}